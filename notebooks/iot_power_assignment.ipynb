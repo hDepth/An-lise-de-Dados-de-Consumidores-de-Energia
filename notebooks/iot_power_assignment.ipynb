{
 "cells": [
  {
   "cell_type": "markdown",
   "id": "4a537481",
   "metadata": {},
   "source": [
    "\n",
    "# CHECKPOINT 01 – Data Science e Machine Learning (Python & Orange)\n",
    "\n",
    "**Data:** 2025-09-02\n",
    "\n",
    "Este notebook resolve e/ou guia a resolução dos **40 exercícios** com base nos datasets da UCI:\n",
    "- *Individual Household Electric Power Consumption*\n",
    "- *Appliances Energy Prediction*\n",
    "\n",
    "> **Antes de começar**: coloque os arquivos em `../data/`:\n",
    "> - `household_power_consumption.txt`\n",
    "> - `energydata_complete.csv`\n"
   ]
  },
  {
   "cell_type": "code",
   "execution_count": null,
   "id": "8cb45772",
   "metadata": {},
   "outputs": [],
   "source": [
    "\n",
    "# Instalação rápida (se necessário)\n",
    "# %pip install -q -r ../requirements.txt\n",
    "import warnings; warnings.filterwarnings(\"ignore\")\n",
    "import pandas as pd, numpy as np, matplotlib.pyplot as plt\n",
    "from pathlib import Path\n",
    "from src.utils import optimize_power_dtypes, add_datetime, add_weekday_column, minmax_scale\n",
    "DATA_DIR = Path('../data')\n",
    "POWER_PATH = DATA_DIR / 'household_power_consumption.txt'\n",
    "APPLIANCES_PATH = DATA_DIR / 'energydata_complete.csv'\n",
    "pd.set_option(\"display.max_rows\", 10)\n"
   ]
  },
  {
   "cell_type": "markdown",
   "id": "cf8e3b9d",
   "metadata": {},
   "source": [
    "## PARTE 1 – Exercícios iniciais: *Individual Household Electric Power Consumption*"
   ]
  },
  {
   "cell_type": "markdown",
   "id": "7a445d5d",
   "metadata": {},
   "source": [
    "### 1) Carregue o dataset e exiba as 10 primeiras linhas."
   ]
  },
  {
   "cell_type": "code",
   "execution_count": null,
   "id": "5b4b3fb6",
   "metadata": {},
   "outputs": [],
   "source": [
    "\n",
    "# O arquivo é separado por ';' e usa '?' como missing.\n",
    "usecols = ['Date','Time','Global_active_power','Global_reactive_power','Voltage',\n",
    "           'Global_intensity','Sub_metering_1','Sub_metering_2','Sub_metering_3']\n",
    "dtypes = {c:'float32' for c in usecols if c not in ['Date','Time']}\n",
    "dtypes.update({'Date':'string','Time':'string'})\n",
    "power = pd.read_csv(POWER_PATH, sep=';', na_values='?', usecols=usecols, dtype=dtypes, low_memory=True)\n",
    "power = optimize_power_dtypes(power)\n",
    "power.head(10)\n"
   ]
  },
  {
   "cell_type": "markdown",
   "id": "7cff3b2d",
   "metadata": {},
   "source": [
    "### 2) Diferença entre **Global_active_power** e **Global_reactive_power**"
   ]
  },
  {
   "cell_type": "markdown",
   "id": "a3d9035b",
   "metadata": {},
   "source": [
    "\n",
    "- **Global_active_power**: potência **ativa** (kW) efetivamente convertida em trabalho/energia útil.\n",
    "- **Global_reactive_power**: potência **reativa** (kVar) associada a campos magnéticos/capacitivos — não realiza trabalho útil, mas circula entre fonte e carga, afetando fator de potência.\n"
   ]
  },
  {
   "cell_type": "markdown",
   "id": "d4c0199d",
   "metadata": {},
   "source": [
    "### 3) Valores ausentes: verifique e quantifique."
   ]
  },
  {
   "cell_type": "code",
   "execution_count": null,
   "id": "8dd19c2c",
   "metadata": {},
   "outputs": [],
   "source": [
    "\n",
    "power.isna().sum().to_frame('missing')\n"
   ]
  },
  {
   "cell_type": "markdown",
   "id": "21c83797",
   "metadata": {},
   "source": [
    "### 4) Converter `Date` para datetime e criar `weekday`."
   ]
  },
  {
   "cell_type": "code",
   "execution_count": null,
   "id": "37e93767",
   "metadata": {},
   "outputs": [],
   "source": [
    "\n",
    "power_dt = power.copy()\n",
    "power_dt['Date_dt'] = pd.to_datetime(power_dt['Date'], format='%d/%m/%Y', errors='coerce')\n",
    "power_dt['weekday'] = power_dt['Date_dt'].dt.day_name()\n",
    "power_dt[['Date','Date_dt','weekday']].head()\n"
   ]
  },
  {
   "cell_type": "markdown",
   "id": "2bce7dac",
   "metadata": {},
   "source": [
    "### 5) Filtrar 2007 e média diária de `Global_active_power`."
   ]
  },
  {
   "cell_type": "code",
   "execution_count": null,
   "id": "d33d3aca",
   "metadata": {},
   "outputs": [],
   "source": [
    "\n",
    "mask2007 = power_dt['Date_dt'].dt.year == 2007\n",
    "daily_mean_2007 = (power_dt.loc[mask2007]\n",
    "                   .groupby(power_dt['Date_dt'].dt.date)['Global_active_power']\n",
    "                   .mean())\n",
    "daily_mean_2007.head(), daily_mean_2007.mean()\n"
   ]
  },
  {
   "cell_type": "markdown",
   "id": "ca8542ad",
   "metadata": {},
   "source": [
    "### 6) Gráfico de linha de `Global_active_power` em um dia."
   ]
  },
  {
   "cell_type": "code",
   "execution_count": null,
   "id": "a357e70d",
   "metadata": {},
   "outputs": [],
   "source": [
    "\n",
    "# Escolha de exemplo: 2007-01-15 (altere se desejar)\n",
    "day = pd.Timestamp('2007-01-15')\n",
    "day_mask = power_dt['Date_dt'] == day\n",
    "plt.figure()\n",
    "plt.plot(power_dt.loc[day_mask, 'Global_active_power'].reset_index(drop=True))\n",
    "plt.title(f'Global_active_power em {day.date()}')\n",
    "plt.xlabel('Registros (minutos)'); plt.ylabel('kW'); plt.tight_layout(); plt.show()\n"
   ]
  },
  {
   "cell_type": "markdown",
   "id": "4aa1420c",
   "metadata": {},
   "source": [
    "### 7) Histograma de `Voltage` e comentários."
   ]
  },
  {
   "cell_type": "code",
   "execution_count": null,
   "id": "6c3265d1",
   "metadata": {},
   "outputs": [],
   "source": [
    "\n",
    "plt.figure()\n",
    "power['Voltage'].plot(kind='hist', bins=50)\n",
    "plt.title('Distribuição de Voltage'); plt.xlabel('Volt'); plt.tight_layout(); plt.show()\n",
    "# Comentário: Em geral, espera-se distribuição aproximadamente unimodal com cauda leve; verificar outliers.\n"
   ]
  },
  {
   "cell_type": "markdown",
   "id": "c41d3b2a",
   "metadata": {},
   "source": [
    "### 8) Consumo médio por mês (todo o período)."
   ]
  },
  {
   "cell_type": "code",
   "execution_count": null,
   "id": "f1054af6",
   "metadata": {},
   "outputs": [],
   "source": [
    "\n",
    "monthly_mean = (power_dt.dropna(subset=['Date_dt'])\n",
    "                .groupby(power_dt['Date_dt'].dt.to_period('M'))['Global_active_power']\n",
    "                .mean().to_timestamp())\n",
    "monthly_mean.head()\n"
   ]
  },
  {
   "cell_type": "markdown",
   "id": "bb52dd43",
   "metadata": {},
   "source": [
    "### 9) Dia com maior consumo médio de energia ativa global."
   ]
  },
  {
   "cell_type": "code",
   "execution_count": null,
   "id": "0992d2ec",
   "metadata": {},
   "outputs": [],
   "source": [
    "\n",
    "daily_mean_all = (power_dt.dropna(subset=['Date_dt'])\n",
    "                  .groupby(power_dt['Date_dt'].dt.date)['Global_active_power']\n",
    "                  .mean())\n",
    "daily_mean_all.idxmax(), daily_mean_all.max()\n"
   ]
  },
  {
   "cell_type": "markdown",
   "id": "58a9b36e",
   "metadata": {},
   "source": [
    "### 10) Semana vs Fim de semana – comparação de médias."
   ]
  },
  {
   "cell_type": "code",
   "execution_count": null,
   "id": "4e9d2c52",
   "metadata": {},
   "outputs": [],
   "source": [
    "\n",
    "weekday_flag = power_dt['Date_dt'].dt.dayofweek < 5\n",
    "weekday_mean = power_dt.loc[weekday_flag, 'Global_active_power'].mean()\n",
    "weekend_mean = power_dt.loc[~weekday_flag, 'Global_active_power'].mean()\n",
    "weekday_mean, weekend_mean\n"
   ]
  },
  {
   "cell_type": "markdown",
   "id": "e87734bb",
   "metadata": {},
   "source": [
    "### 11) Correlação entre variáveis principais."
   ]
  },
  {
   "cell_type": "code",
   "execution_count": null,
   "id": "2db2692e",
   "metadata": {},
   "outputs": [],
   "source": [
    "\n",
    "cols = ['Global_active_power','Global_reactive_power','Voltage','Global_intensity']\n",
    "power[cols].corr(method='pearson')\n"
   ]
  },
  {
   "cell_type": "markdown",
   "id": "449e0ab0",
   "metadata": {},
   "source": [
    "### 12) Nova variável `Total_Sub_metering` = soma das três submedições."
   ]
  },
  {
   "cell_type": "code",
   "execution_count": null,
   "id": "40774167",
   "metadata": {},
   "outputs": [],
   "source": [
    "\n",
    "power_dt['Total_Sub_metering'] = power_dt[['Sub_metering_1','Sub_metering_2','Sub_metering_3']].sum(axis=1)\n",
    "power_dt[['Total_Sub_metering']].head()\n"
   ]
  },
  {
   "cell_type": "markdown",
   "id": "080935cf",
   "metadata": {},
   "source": [
    "### 13) Mês em que `Total_Sub_metering` > média de `Global_active_power`."
   ]
  },
  {
   "cell_type": "code",
   "execution_count": null,
   "id": "40eb3224",
   "metadata": {},
   "outputs": [],
   "source": [
    "\n",
    "g_mean = power_dt['Global_active_power'].mean()\n",
    "monthly_sum_tm = (power_dt\n",
    "                  .groupby(power_dt['Date_dt'].dt.to_period('M'))['Total_Sub_metering']\n",
    "                  .mean().to_timestamp())\n",
    "monthly_sum_tm[monthly_sum_tm > g_mean]\n"
   ]
  },
  {
   "cell_type": "markdown",
   "id": "57c4bd4d",
   "metadata": {},
   "source": [
    "### 14) Série temporal de `Voltage` para 2008."
   ]
  },
  {
   "cell_type": "code",
   "execution_count": null,
   "id": "39361e08",
   "metadata": {},
   "outputs": [],
   "source": [
    "\n",
    "mask2008 = power_dt['Date_dt'].dt.year == 2008\n",
    "plt.figure()\n",
    "power_dt.loc[mask2008, 'Voltage'].plot()\n",
    "plt.title('Voltage - 2008'); plt.xlabel('Tempo'); plt.ylabel('Volt'); plt.tight_layout(); plt.show()\n"
   ]
  },
  {
   "cell_type": "markdown",
   "id": "07f49e0e",
   "metadata": {},
   "source": [
    "### 15) Verão vs Inverno (hemisfério norte)."
   ]
  },
  {
   "cell_type": "code",
   "execution_count": null,
   "id": "cac60291",
   "metadata": {},
   "outputs": [],
   "source": [
    "\n",
    "# Verão: Jun–Ago; Inverno: Dez–Fev\n",
    "month = power_dt['Date_dt'].dt.month\n",
    "summer = power_dt.loc[month.isin([6,7,8]), 'Global_active_power'].mean()\n",
    "winter = power_dt.loc[month.isin([12,1,2]), 'Global_active_power'].mean()\n",
    "summer, winter\n"
   ]
  },
  {
   "cell_type": "markdown",
   "id": "e99dac7c",
   "metadata": {},
   "source": [
    "### 16) Amostragem aleatória 1% e comparação de distribuição."
   ]
  },
  {
   "cell_type": "code",
   "execution_count": null,
   "id": "26d37366",
   "metadata": {},
   "outputs": [],
   "source": [
    "\n",
    "sample = power_dt.sample(frac=0.01, random_state=42)\n",
    "desc_full = power_dt['Global_active_power'].describe()\n",
    "desc_sample = sample['Global_active_power'].describe()\n",
    "desc_full, desc_sample\n"
   ]
  },
  {
   "cell_type": "markdown",
   "id": "023d2b7d",
   "metadata": {},
   "source": [
    "### 17) Normalização Min-Max."
   ]
  },
  {
   "cell_type": "code",
   "execution_count": null,
   "id": "406af514",
   "metadata": {},
   "outputs": [],
   "source": [
    "\n",
    "num_cols = ['Global_active_power','Global_reactive_power','Voltage','Global_intensity']\n",
    "scaled, scaler = minmax_scale(power_dt.dropna(subset=num_cols), num_cols)\n",
    "scaled[num_cols].head()\n"
   ]
  },
  {
   "cell_type": "markdown",
   "id": "db415e49",
   "metadata": {},
   "source": [
    "### 18) K-Means (dias → 3 grupos)."
   ]
  },
  {
   "cell_type": "code",
   "execution_count": null,
   "id": "b552a3c3",
   "metadata": {},
   "outputs": [],
   "source": [
    "\n",
    "from sklearn.cluster import KMeans\n",
    "daily_features = (power_dt\n",
    "                  .dropna(subset=['Date_dt'])\n",
    "                  .groupby(power_dt['Date_dt'].dt.date)[['Global_active_power','Global_reactive_power','Voltage','Global_intensity']]\n",
    "                  .mean())\n",
    "k3 = KMeans(n_clusters=3, n_init=10, random_state=42)\n",
    "labels = k3.fit_predict(daily_features)\n",
    "daily_features.assign(cluster=labels).groupby('cluster').mean()\n"
   ]
  },
  {
   "cell_type": "markdown",
   "id": "6e0ad08f",
   "metadata": {},
   "source": [
    "### 19) Decomposição de série temporal (6 meses) – `Global_active_power`."
   ]
  },
  {
   "cell_type": "code",
   "execution_count": null,
   "id": "6cb16a91",
   "metadata": {},
   "outputs": [],
   "source": [
    "\n",
    "from statsmodels.tsa.seasonal import seasonal_decompose\n",
    "# criar índice datetime completo\n",
    "pidx = pd.to_datetime(power['Date'] + ' ' + power['Time'], format='%d/%m/%Y %H:%M:%S', errors='coerce')\n",
    "ts = pd.Series(power['Global_active_power'].values, index=pidx).dropna()\n",
    "six_months = ts.loc[ts.index.min(): ts.index.min() + pd.DateOffset(months=6)]\n",
    "res = seasonal_decompose(six_months.asfreq('T').interpolate(), model='additive', period=60*24)  # diário\n",
    "fig = res.plot(); fig.set_size_inches(8, 6)\n",
    "plt.tight_layout(); plt.show()\n"
   ]
  },
  {
   "cell_type": "markdown",
   "id": "dbbcd7af",
   "metadata": {},
   "source": [
    "### 20) Regressão linear: prever `Global_active_power` a partir de `Global_intensity`."
   ]
  },
  {
   "cell_type": "code",
   "execution_count": null,
   "id": "412c3ea5",
   "metadata": {},
   "outputs": [],
   "source": [
    "\n",
    "from sklearn.linear_model import LinearRegression\n",
    "from sklearn.metrics import mean_squared_error\n",
    "df = power_dt.dropna(subset=['Global_active_power','Global_intensity']).sample(100000, random_state=42)  # limitar\n",
    "X = df[['Global_intensity']].values\n",
    "y = df['Global_active_power'].values\n",
    "lr = LinearRegression().fit(X, y)\n",
    "pred = lr.predict(X)\n",
    "rmse = mean_squared_error(y, pred, squared=False)\n",
    "lr.coef_[0], lr.intercept_, rmse\n"
   ]
  },
  {
   "cell_type": "markdown",
   "id": "916f702a",
   "metadata": {},
   "source": [
    "## PARTE 2 – Exercícios adicionais no dataset inicial"
   ]
  },
  {
   "cell_type": "markdown",
   "id": "261eadef",
   "metadata": {},
   "source": [
    "### 21) Séries temporais por hora (índice datetime + reamostragem)."
   ]
  },
  {
   "cell_type": "code",
   "execution_count": null,
   "id": "f505c2c6",
   "metadata": {},
   "outputs": [],
   "source": [
    "\n",
    "power_idx = add_datetime(power.copy())\n",
    "g_hourly = power_idx['Global_active_power'].resample('1H').mean()\n",
    "g_hourly.head(), g_hourly.idxmax(), g_hourly.max()\n"
   ]
  },
  {
   "cell_type": "markdown",
   "id": "cc5ce407",
   "metadata": {},
   "source": [
    "### 22) Autocorrelação (1h, 24h, 48h). Existem padrões diários?"
   ]
  },
  {
   "cell_type": "code",
   "execution_count": null,
   "id": "ec570f33",
   "metadata": {},
   "outputs": [],
   "source": [
    "\n",
    "def autocorr_at_lag(s, lag):\n",
    "    return s.autocorr(lag=lag)\n",
    "ac1 = autocorr_at_lag(g_hourly.dropna(), 1)\n",
    "ac24 = autocorr_at_lag(g_hourly.dropna(), 24)\n",
    "ac48 = autocorr_at_lag(g_hourly.dropna(), 48)\n",
    "ac1, ac24, ac48\n"
   ]
  },
  {
   "cell_type": "markdown",
   "id": "acdddd1e",
   "metadata": {},
   "source": [
    "### 23) PCA (4 variáveis → 2 componentes)."
   ]
  },
  {
   "cell_type": "code",
   "execution_count": null,
   "id": "226c133b",
   "metadata": {},
   "outputs": [],
   "source": [
    "\n",
    "from sklearn.decomposition import PCA\n",
    "subset = power_dt.dropna(subset=['Global_active_power','Global_reactive_power','Voltage','Global_intensity'])\n",
    "X = subset[['Global_active_power','Global_reactive_power','Voltage','Global_intensity']].values\n",
    "pca = PCA(n_components=2, random_state=42)\n",
    "X2 = pca.fit_transform(X)\n",
    "pca.explained_variance_ratio_, X2[:5]\n"
   ]
  },
  {
   "cell_type": "markdown",
   "id": "f28a0b71",
   "metadata": {},
   "source": [
    "### 24) PCA + K-Means (3 clusters) – visualização."
   ]
  },
  {
   "cell_type": "code",
   "execution_count": null,
   "id": "4bce7cf7",
   "metadata": {},
   "outputs": [],
   "source": [
    "\n",
    "k3_p = KMeans(n_clusters=3, n_init=10, random_state=42)\n",
    "lab = k3_p.fit_predict(X2)\n",
    "plt.figure()\n",
    "plt.scatter(X2[:,0], X2[:,1], s=2, c=lab)\n",
    "plt.title('PCA (2D) + KMeans (k=3)'); plt.xlabel('PC1'); plt.ylabel('PC2'); plt.tight_layout(); plt.show()\n",
    "# Pergunta: grupos se separam claramente? Verifique a figura.\n"
   ]
  },
  {
   "cell_type": "markdown",
   "id": "c67eda10",
   "metadata": {},
   "source": [
    "### 25) Regressão Linear vs Polinomial (grau 2): `Global_active_power` ~ `Voltage`."
   ]
  },
  {
   "cell_type": "code",
   "execution_count": null,
   "id": "487da372",
   "metadata": {},
   "outputs": [],
   "source": [
    "\n",
    "from sklearn.preprocessing import PolynomialFeatures\n",
    "from sklearn.pipeline import Pipeline\n",
    "from sklearn.metrics import mean_squared_error\n",
    "X = power_dt[['Voltage']].dropna().sample(200000, random_state=42)\n",
    "y = power_dt.loc[X.index, 'Global_active_power']\n",
    "# Linear\n",
    "lin = Pipeline([('lr', LinearRegression())]).fit(X, y)\n",
    "pred_lin = lin.predict(X)\n",
    "rmse_lin = mean_squared_error(y, pred_lin, squared=False)\n",
    "# Polinomial grau 2\n",
    "poly2 = Pipeline([('poly', PolynomialFeatures(degree=2, include_bias=False)),\n",
    "                  ('lr', LinearRegression())]).fit(X, y)\n",
    "pred_poly = poly2.predict(X)\n",
    "rmse_poly = mean_squared_error(y, pred_poly, squared=False)\n",
    "rmse_lin, rmse_poly\n"
   ]
  },
  {
   "cell_type": "markdown",
   "id": "dd2bb906",
   "metadata": {},
   "source": [
    "## PARTE 3 – *Appliances Energy Prediction* (26–35)"
   ]
  },
  {
   "cell_type": "markdown",
   "id": "6d142158",
   "metadata": {},
   "source": [
    "### 26) Carregamento e inspeção inicial."
   ]
  },
  {
   "cell_type": "code",
   "execution_count": null,
   "id": "b3679cf0",
   "metadata": {},
   "outputs": [],
   "source": [
    "\n",
    "appl = pd.read_csv(APPLIANCES_PATH)\n",
    "appl.info(), appl.describe().T.head()\n"
   ]
  },
  {
   "cell_type": "markdown",
   "id": "19980f03",
   "metadata": {},
   "source": [
    "### 27) Distribuição do consumo (hist e série temporal)."
   ]
  },
  {
   "cell_type": "code",
   "execution_count": null,
   "id": "c0f100d4",
   "metadata": {},
   "outputs": [],
   "source": [
    "\n",
    "plt.figure(); appl['Appliances'].plot(kind='hist', bins=50); plt.title('Appliances - Hist'); plt.tight_layout(); plt.show()\n",
    "# série temporal (se houver coluna de tempo 'date')\n",
    "if 'date' in appl.columns:\n",
    "    appl['date'] = pd.to_datetime(appl['date'], errors='coerce')\n",
    "    appl_ts = appl.set_index('date').sort_index()\n",
    "    plt.figure(); appl_ts['Appliances'].plot(); plt.title('Appliances - Série Temporal'); plt.tight_layout(); plt.show()\n"
   ]
  },
  {
   "cell_type": "markdown",
   "id": "d2e5fd5b",
   "metadata": {},
   "source": [
    "### 28) Correlações com variáveis ambientais (temp/umidade)."
   ]
  },
  {
   "cell_type": "code",
   "execution_count": null,
   "id": "c4017ff2",
   "metadata": {},
   "outputs": [],
   "source": [
    "\n",
    "env_cols = [c for c in appl.columns if c.lower().startswith(('t','rh'))]  # temperaturas T* e humidades RH*\n",
    "corrs = appl[['Appliances'] + env_cols].corr().loc['Appliances'].sort_values(ascending=False)\n",
    "corrs.head(15)\n"
   ]
  },
  {
   "cell_type": "markdown",
   "id": "4a32b8b6",
   "metadata": {},
   "source": [
    "### 29) Normalização Min-Max (reuso posterior)."
   ]
  },
  {
   "cell_type": "code",
   "execution_count": null,
   "id": "eafe68eb",
   "metadata": {},
   "outputs": [],
   "source": [
    "\n",
    "num_cols = appl.select_dtypes(include=['int64','float64','int32','float32']).columns.tolist()\n",
    "appl_scaled, appl_scaler = minmax_scale(appl, num_cols)\n",
    "appl_scaled[num_cols].head()\n"
   ]
  },
  {
   "cell_type": "markdown",
   "id": "77e2d7ec",
   "metadata": {},
   "source": [
    "### 30) PCA (2 componentes) + plot."
   ]
  },
  {
   "cell_type": "code",
   "execution_count": null,
   "id": "e7438de9",
   "metadata": {},
   "outputs": [],
   "source": [
    "\n",
    "from sklearn.decomposition import PCA\n",
    "X_env = appl_scaled[env_cols].dropna().values\n",
    "pca2 = PCA(n_components=2, random_state=42)\n",
    "X2_env = pca2.fit_transform(X_env)\n",
    "pca2.explained_variance_ratio_[:], X2_env[:5]\n",
    "plt.figure(); plt.scatter(X2_env[:,0], X2_env[:,1], s=2); plt.title('PCA (Ambiente)'); plt.tight_layout(); plt.show()\n"
   ]
  },
  {
   "cell_type": "markdown",
   "id": "78ec17c2",
   "metadata": {},
   "source": [
    "### 31) Regressão Linear Múltipla para `Appliances`."
   ]
  },
  {
   "cell_type": "code",
   "execution_count": null,
   "id": "4da40bc3",
   "metadata": {},
   "outputs": [],
   "source": [
    "\n",
    "from sklearn.model_selection import train_test_split\n",
    "X = appl[env_cols].fillna(appl[env_cols].median())\n",
    "y = appl['Appliances']\n",
    "Xtr, Xte, ytr, yte = train_test_split(X, y, test_size=0.2, random_state=42)\n",
    "lm = LinearRegression().fit(Xtr, ytr)\n",
    "from sklearn.metrics import r2_score, mean_absolute_error, mean_squared_error\n",
    "pred = lm.predict(Xte)\n",
    "r2 = r2_score(yte, pred)\n",
    "rmse = mean_squared_error(yte, pred, squared=False)\n",
    "mae = mean_absolute_error(yte, pred)\n",
    "r2, rmse, mae\n"
   ]
  },
  {
   "cell_type": "markdown",
   "id": "0b918b41",
   "metadata": {},
   "source": [
    "### 32) Random Forest Regressor – comparação com Linear."
   ]
  },
  {
   "cell_type": "code",
   "execution_count": null,
   "id": "d6339a9e",
   "metadata": {},
   "outputs": [],
   "source": [
    "\n",
    "from sklearn.ensemble import RandomForestRegressor\n",
    "rf = RandomForestRegressor(n_estimators=200, random_state=42, n_jobs=-1)\n",
    "rf.fit(Xtr, ytr)\n",
    "pred_rf = rf.predict(Xte)\n",
    "r2_rf = r2_score(yte, pred_rf)\n",
    "rmse_rf = mean_squared_error(yte, pred_rf, squared=False)\n",
    "mae_rf = mean_absolute_error(yte, pred_rf)\n",
    "(r2, rmse, mae), (r2_rf, rmse_rf, mae_rf)\n"
   ]
  },
  {
   "cell_type": "markdown",
   "id": "fe5a872d",
   "metadata": {},
   "source": [
    "### 33) K-Means (3–5 clusters) – perfis de consumo."
   ]
  },
  {
   "cell_type": "code",
   "execution_count": null,
   "id": "ad14f2c4",
   "metadata": {},
   "outputs": [],
   "source": [
    "\n",
    "from sklearn.cluster import KMeans\n",
    "for k in [3,4,5]:\n",
    "    km = KMeans(n_clusters=k, n_init=10, random_state=42)\n",
    "    labs = km.fit_predict(X)\n",
    "    print(f'k={k} | inertia={km.inertia_:.2f}')\n"
   ]
  },
  {
   "cell_type": "markdown",
   "id": "cd76a271",
   "metadata": {},
   "source": [
    "### 34) Classificação binária: alto vs baixo consumo (mediana)."
   ]
  },
  {
   "cell_type": "code",
   "execution_count": null,
   "id": "32f10363",
   "metadata": {},
   "outputs": [],
   "source": [
    "\n",
    "from sklearn.linear_model import LogisticRegression\n",
    "from sklearn.ensemble import RandomForestClassifier\n",
    "y_bin = (appl['Appliances'] > appl['Appliances'].median()).astype(int)\n",
    "Xtr, Xte, ytr, yte = train_test_split(X, y_bin, test_size=0.2, random_state=42)\n",
    "logit = LogisticRegression(max_iter=1000).fit(Xtr, ytr)\n",
    "rf_clf = RandomForestClassifier(n_estimators=300, random_state=42, n_jobs=-1).fit(Xtr, ytr)\n",
    "pred_l = logit.predict(Xte)\n",
    "pred_r = rf_clf.predict(Xte)\n",
    "pred_proba_r = rf_clf.predict_proba(Xte)[:,1]\n"
   ]
  },
  {
   "cell_type": "markdown",
   "id": "bd43e3ce",
   "metadata": {},
   "source": [
    "### 35) Avaliação (matriz de confusão e métricas). O modelo erra mais alto ou baixo?"
   ]
  },
  {
   "cell_type": "code",
   "execution_count": null,
   "id": "b9172a53",
   "metadata": {},
   "outputs": [],
   "source": [
    "\n",
    "from sklearn.metrics import confusion_matrix, classification_report\n",
    "cm_l = confusion_matrix(yte, pred_l)\n",
    "cm_r = confusion_matrix(yte, pred_r)\n",
    "print('Logistic Regression\\n', cm_l)\n",
    "print(classification_report(yte, pred_l))\n",
    "print('Random Forest\\n', cm_r)\n",
    "print(classification_report(yte, pred_r))\n",
    "# Compare as taxas de FN/FP para inferir onde o erro é maior (alto vs baixo consumo).\n"
   ]
  },
  {
   "cell_type": "markdown",
   "id": "7ff6070d",
   "metadata": {},
   "source": [
    "## PARTE 4 – Orange Data Mining (36–40) – Guia Rápido"
   ]
  },
  {
   "cell_type": "markdown",
   "id": "60778c27",
   "metadata": {},
   "source": [
    "\n",
    "**36)** CSV File Import → Data Table. *Pergunta*: quantas variáveis/registros?  \n",
    "**37)** Sample Data (1%). Compare distribuição com a base completa (Distribution/Box Plot).  \n",
    "**38)** Distribution → `Global_active_power`: verifique concentração em valores baixos vs altos.  \n",
    "**39)** Scatter Plot: `Voltage` (X) × `Global_intensity` (Y). Há correlação visível?  \n",
    "**40)** k-Means (k=3) usando `Sub_metering_1..3`; visualize no Scatter Plot e descreva os perfis.\n",
    "\n",
    "> Dica: use Color = cluster no Scatter Plot; *Silhouette Score* do widget ajuda a avaliar separação.\n"
   ]
  }
 ],
 "metadata": {},
 "nbformat": 4,
 "nbformat_minor": 5
}
